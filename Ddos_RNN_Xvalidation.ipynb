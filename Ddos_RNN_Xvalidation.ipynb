{
  "nbformat": 4,
  "nbformat_minor": 0,
  "metadata": {
    "colab": {
      "provenance": [],
      "gpuType": "T4",
      "mount_file_id": "1qBEpxv0uXN8TeoXe60y9qalPJXMGpDlD",
      "authorship_tag": "ABX9TyNvktexmzFUzP7nvXTSzOpa",
      "include_colab_link": true
    },
    "kernelspec": {
      "name": "python3",
      "display_name": "Python 3"
    },
    "language_info": {
      "name": "python"
    },
    "accelerator": "GPU"
  },
  "cells": [
    {
      "cell_type": "markdown",
      "metadata": {
        "id": "view-in-github",
        "colab_type": "text"
      },
      "source": [
        "<a href=\"https://colab.research.google.com/github/faisal12212092/DDoS-Attack-Detection-Using-Deep-Learning-Research-report-/blob/main/Ddos_RNN_Xvalidation.ipynb\" target=\"_parent\"><img src=\"https://colab.research.google.com/assets/colab-badge.svg\" alt=\"Open In Colab\"/></a>"
      ]
    },
    {
      "cell_type": "code",
      "execution_count": null,
      "metadata": {
        "id": "DhcrZPuTlohp"
      },
      "outputs": [],
      "source": [
        "import pandas as pd\n",
        "from sklearn.preprocessing import MinMaxScaler\n",
        "from sklearn.model_selection import train_test_split, KFold\n",
        "from sklearn.metrics import confusion_matrix, accuracy_score, precision_score, recall_score, f1_score\n",
        "import numpy as np\n",
        "from tensorflow.keras.models import Sequential\n",
        "from tensorflow.keras.layers import Dense, LSTM, Bidirectional"
      ]
    },
    {
      "cell_type": "code",
      "source": [
        "path = \"/content/drive/MyDrive/DDOS DATASETS/smtnormalizeddata.csv\"\n",
        "df = pd.read_csv(path)"
      ],
      "metadata": {
        "id": "CF8yWdcilyT7"
      },
      "execution_count": null,
      "outputs": []
    },
    {
      "cell_type": "code",
      "source": [
        "df.dropna(inplace=True)\n",
        "features = df.drop('Label', axis=1)\n",
        "target = df['Label']"
      ],
      "metadata": {
        "id": "NkweIyHdlybe"
      },
      "execution_count": null,
      "outputs": []
    },
    {
      "cell_type": "code",
      "source": [
        "def create_sequences(data, labels, sequence_length):\n",
        "    sequences = []\n",
        "    sequence_labels = []\n",
        "    for i in range(len(data) - sequence_length):\n",
        "        sequences.append(data[i:i + sequence_length])\n",
        "        sequence_labels.append(labels[i + sequence_length])\n",
        "    return np.array(sequences), np.array(sequence_labels)"
      ],
      "metadata": {
        "id": "hx0Xu8htlykL"
      },
      "execution_count": null,
      "outputs": []
    },
    {
      "cell_type": "code",
      "source": [
        "sequence_length = 10\n",
        "\n",
        "\n",
        "X, y = create_sequences(features.values, target.values, sequence_length)\n",
        "\n",
        "kfold = KFold(n_splits=5, shuffle=True, random_state=42)\n",
        "\n",
        "cv_accuracy = []\n",
        "cv_precision = []\n",
        "cv_recall = []\n",
        "cv_f1 = []\n",
        "cv_cm = []\n",
        "\n",
        "#K-fold cross-validation\n",
        "for train_index, val_index in kfold.split(X):\n",
        "    X_train, X_val = X[train_index], X[val_index]\n",
        "    y_train, y_val = y[train_index], y[val_index]\n",
        "\n",
        "    model = Sequential()\n",
        "    model.add(Bidirectional(LSTM(50, return_sequences=True), input_shape=(sequence_length, X_train.shape[2])))\n",
        "    model.add(Bidirectional(LSTM(50)))\n",
        "    model.add(Dense(1, activation='sigmoid'))\n",
        "\n",
        "    model.compile(optimizer='adam', loss='binary_crossentropy', metrics=['accuracy'])\n",
        "\n",
        "    history = model.fit(X_train, y_train, epochs=5, batch_size=200, validation_data=(X_val, y_val))"
      ],
      "metadata": {
        "colab": {
          "base_uri": "https://localhost:8080/"
        },
        "id": "9sQ1RRP3lyoq",
        "outputId": "5df67f01-3a4e-4836-e57c-537de64916f2"
      },
      "execution_count": null,
      "outputs": [
        {
          "output_type": "stream",
          "name": "stdout",
          "text": [
            "Epoch 1/5\n",
            "1025/1025 [==============================] - 22s 14ms/step - loss: 0.0143 - accuracy: 0.9957 - val_loss: 0.0047 - val_accuracy: 0.9991\n",
            "Epoch 2/5\n",
            "1025/1025 [==============================] - 13s 13ms/step - loss: 0.0034 - accuracy: 0.9994 - val_loss: 0.0068 - val_accuracy: 0.9987\n",
            "Epoch 3/5\n",
            "1025/1025 [==============================] - 12s 12ms/step - loss: 0.0028 - accuracy: 0.9995 - val_loss: 0.0024 - val_accuracy: 0.9994\n",
            "Epoch 4/5\n",
            "1025/1025 [==============================] - 11s 11ms/step - loss: 0.0024 - accuracy: 0.9995 - val_loss: 0.0024 - val_accuracy: 0.9994\n",
            "Epoch 5/5\n",
            "1025/1025 [==============================] - 11s 11ms/step - loss: 0.0021 - accuracy: 0.9996 - val_loss: 0.0024 - val_accuracy: 0.9995\n",
            "Epoch 1/5\n",
            "1025/1025 [==============================] - 21s 14ms/step - loss: 0.0138 - accuracy: 0.9975 - val_loss: 0.0029 - val_accuracy: 0.9995\n",
            "Epoch 2/5\n",
            "1025/1025 [==============================] - 11s 11ms/step - loss: 0.0033 - accuracy: 0.9994 - val_loss: 0.0027 - val_accuracy: 0.9996\n",
            "Epoch 3/5\n",
            "1025/1025 [==============================] - 12s 11ms/step - loss: 0.0027 - accuracy: 0.9994 - val_loss: 0.0021 - val_accuracy: 0.9996\n",
            "Epoch 4/5\n",
            "1025/1025 [==============================] - 12s 12ms/step - loss: 0.0027 - accuracy: 0.9994 - val_loss: 0.0023 - val_accuracy: 0.9996\n",
            "Epoch 5/5\n",
            "1025/1025 [==============================] - 12s 12ms/step - loss: 0.0021 - accuracy: 0.9996 - val_loss: 0.0018 - val_accuracy: 0.9997\n",
            "Epoch 1/5\n",
            "1025/1025 [==============================] - 21s 13ms/step - loss: 0.0143 - accuracy: 0.9959 - val_loss: 0.0044 - val_accuracy: 0.9994\n",
            "Epoch 2/5\n",
            "1025/1025 [==============================] - 12s 12ms/step - loss: 0.0036 - accuracy: 0.9994 - val_loss: 0.0043 - val_accuracy: 0.9991\n",
            "Epoch 3/5\n",
            "1025/1025 [==============================] - 11s 11ms/step - loss: 0.0033 - accuracy: 0.9993 - val_loss: 0.0018 - val_accuracy: 0.9996\n",
            "Epoch 4/5\n",
            "1025/1025 [==============================] - 12s 12ms/step - loss: 0.0025 - accuracy: 0.9994 - val_loss: 0.0016 - val_accuracy: 0.9997\n",
            "Epoch 5/5\n",
            "1025/1025 [==============================] - 12s 12ms/step - loss: 0.0024 - accuracy: 0.9995 - val_loss: 0.0019 - val_accuracy: 0.9996\n",
            "Epoch 1/5\n",
            "1025/1025 [==============================] - 22s 15ms/step - loss: 0.0166 - accuracy: 0.9940 - val_loss: 0.0047 - val_accuracy: 0.9990\n",
            "Epoch 2/5\n",
            "1025/1025 [==============================] - 12s 12ms/step - loss: 0.0033 - accuracy: 0.9994 - val_loss: 0.0034 - val_accuracy: 0.9994\n",
            "Epoch 3/5\n",
            "1025/1025 [==============================] - 11s 11ms/step - loss: 0.0028 - accuracy: 0.9995 - val_loss: 0.0029 - val_accuracy: 0.9994\n",
            "Epoch 4/5\n",
            "1025/1025 [==============================] - 11s 11ms/step - loss: 0.0023 - accuracy: 0.9996 - val_loss: 0.0025 - val_accuracy: 0.9995\n",
            "Epoch 5/5\n",
            "1025/1025 [==============================] - 12s 12ms/step - loss: 0.0022 - accuracy: 0.9996 - val_loss: 0.0024 - val_accuracy: 0.9995\n",
            "Epoch 1/5\n",
            "1025/1025 [==============================] - 20s 13ms/step - loss: 0.0140 - accuracy: 0.9968 - val_loss: 0.0044 - val_accuracy: 0.9993\n",
            "Epoch 2/5\n",
            "1025/1025 [==============================] - 12s 11ms/step - loss: 0.0037 - accuracy: 0.9993 - val_loss: 0.0030 - val_accuracy: 0.9995\n",
            "Epoch 3/5\n",
            "1025/1025 [==============================] - 11s 11ms/step - loss: 0.0028 - accuracy: 0.9995 - val_loss: 0.0151 - val_accuracy: 0.9946\n",
            "Epoch 4/5\n",
            "1025/1025 [==============================] - 12s 11ms/step - loss: 0.0024 - accuracy: 0.9995 - val_loss: 0.0023 - val_accuracy: 0.9996\n",
            "Epoch 5/5\n",
            "1025/1025 [==============================] - 12s 12ms/step - loss: 0.0022 - accuracy: 0.9996 - val_loss: 0.0020 - val_accuracy: 0.9996\n"
          ]
        }
      ]
    },
    {
      "cell_type": "code",
      "source": [
        "    y_pred = model.predict(X_val)\n",
        "    y_pred = (y_pred > 0.5).astype(int)\n",
        "\n",
        "    accuracy = accuracy_score(y_val, y_pred)\n",
        "    precision = precision_score(y_val, y_pred)\n",
        "    recall = recall_score(y_val, y_pred)\n",
        "    f1 = f1_score(y_val, y_pred)\n",
        "    cm = confusion_matrix(y_val, y_pred)"
      ],
      "metadata": {
        "colab": {
          "base_uri": "https://localhost:8080/"
        },
        "id": "q3t-A6J7lysC",
        "outputId": "f16836b5-9bb9-4ba4-e2c7-e4ceb4980397"
      },
      "execution_count": null,
      "outputs": [
        {
          "output_type": "stream",
          "name": "stdout",
          "text": [
            "1601/1601 [==============================] - 7s 4ms/step\n"
          ]
        }
      ]
    },
    {
      "cell_type": "code",
      "source": [
        "    cv_accuracy.append(accuracy)\n",
        "    cv_precision.append(precision)\n",
        "    cv_recall.append(recall)\n",
        "    cv_f1.append(f1)\n",
        "    cv_cm.append(cm)\n",
        "\n",
        "avg_accuracy = np.mean(cv_accuracy)\n",
        "avg_precision = np.mean(cv_precision)\n",
        "avg_recall = np.mean(cv_recall)\n",
        "avg_f1 = np.mean(cv_f1)\n",
        "avg_cm = np.mean(cv_cm, axis=0)\n",
        "\n",
        "print(f'Average Accuracy: {avg_accuracy}')\n",
        "print(f'Average Precision: {avg_precision}')\n",
        "print(f'Average Recall: {avg_recall}')\n",
        "print(f'Average F1 Score: {avg_f1}')\n",
        "print('Average Confusion Matrix:')\n",
        "print(avg_cm.astype(int))"
      ],
      "metadata": {
        "colab": {
          "base_uri": "https://localhost:8080/"
        },
        "id": "dqPxqx50lyzp",
        "outputId": "a22dd4dc-2221-4e14-f5f7-bf9999c1e444"
      },
      "execution_count": null,
      "outputs": [
        {
          "output_type": "stream",
          "name": "stdout",
          "text": [
            "Average Accuracy: 0.9996484924230589\n",
            "Average Precision: 0.9996098626716604\n",
            "Average Recall: 0.9996878657822864\n",
            "Average F1 Score: 0.9996488627053178\n",
            "Average Confusion Matrix:\n",
            "[[25568    10]\n",
            " [    8 25622]]\n"
          ]
        }
      ]
    }
  ]
}