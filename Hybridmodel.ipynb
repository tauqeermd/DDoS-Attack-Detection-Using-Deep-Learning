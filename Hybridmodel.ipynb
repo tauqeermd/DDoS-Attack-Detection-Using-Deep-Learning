{
  "nbformat": 4,
  "nbformat_minor": 0,
  "metadata": {
    "colab": {
      "provenance": [],
      "gpuType": "T4",
      "mount_file_id": "11ltEZ1y221L8v1mDoVIkdxZxRrnT1TKC",
      "authorship_tag": "ABX9TyN37K+5crIyHMprnRRO7Bxy",
      "include_colab_link": true
    },
    "kernelspec": {
      "name": "python3",
      "display_name": "Python 3"
    },
    "language_info": {
      "name": "python"
    },
    "accelerator": "GPU"
  },
  "cells": [
    {
      "cell_type": "markdown",
      "metadata": {
        "id": "view-in-github",
        "colab_type": "text"
      },
      "source": [
        "<a href=\"https://colab.research.google.com/github/faisal12212092/DDoS-Attack-Detection-Using-Deep-Learning-Research-report-/blob/main/Hybridmodel.ipynb\" target=\"_parent\"><img src=\"https://colab.research.google.com/assets/colab-badge.svg\" alt=\"Open In Colab\"/></a>"
      ]
    },
    {
      "cell_type": "code",
      "execution_count": null,
      "metadata": {
        "id": "8eO2UQPjtdWY"
      },
      "outputs": [],
      "source": [
        "import pandas as pd\n",
        "from sklearn.model_selection import KFold\n",
        "from sklearn.metrics import confusion_matrix, accuracy_score, precision_score, recall_score, f1_score\n",
        "import numpy as np\n",
        "from tensorflow.keras.models import Sequential\n",
        "from tensorflow.keras.layers import Dense, SimpleRNN, Bidirectional, LSTM,Dropout\n",
        "from tensorflow.keras.optimizers import Adam\n",
        "\n"
      ]
    },
    {
      "cell_type": "code",
      "source": [
        "path = \"/content/drive/MyDrive/DDOS DATASETS/smtnormalizeddata.csv\"\n",
        "df = pd.read_csv(path)"
      ],
      "metadata": {
        "id": "PU5yRKB8txJI"
      },
      "execution_count": null,
      "outputs": []
    },
    {
      "cell_type": "code",
      "source": [
        "df.dropna(inplace=True)\n",
        "features = df.drop('Label', axis=1)\n",
        "target = df['Label']"
      ],
      "metadata": {
        "id": "u7JX0j-HuFkY"
      },
      "execution_count": null,
      "outputs": []
    },
    {
      "cell_type": "code",
      "source": [
        "def create_sequences(data, labels, sequence_length):\n",
        "    sequences = []\n",
        "    sequence_labels = []\n",
        "    for i in range(len(data) - sequence_length):\n",
        "        sequences.append(data[i:i + sequence_length])\n",
        "        sequence_labels.append(labels[i + sequence_length])\n",
        "    return np.array(sequences), np.array(sequence_labels)\n"
      ],
      "metadata": {
        "id": "VTtsHrtTuLPA"
      },
      "execution_count": null,
      "outputs": []
    },
    {
      "cell_type": "code",
      "source": [
        "sequence_length = 10\n",
        "\n",
        "# Create sequences\n",
        "X, y = create_sequences(features.values, target.values, sequence_length)\n",
        "\n",
        "# Define K-fold cross-validation\n",
        "kfold = KFold(n_splits=5, shuffle=True, random_state=42)\n",
        "\n",
        "cv_accuracy = []\n",
        "cv_precision = []\n",
        "cv_recall = []\n",
        "cv_f1 = []\n",
        "cv_cm = []\n",
        "\n",
        "# K-fold cross-validation\n",
        "for train_index, test_index in kfold.split(X):\n",
        "    X_train, X_test = X[train_index], X[test_index]\n",
        "    y_train, y_test = y[train_index], y[test_index]\n",
        "\n",
        "    model = Sequential()\n",
        "    model.add(SimpleRNN(32, return_sequences=True, input_shape=(sequence_length, X_train.shape[2])))\n",
        "    model.add(Bidirectional(LSTM(64)))\n",
        "    model.add(Dropout(0.2))\n",
        "    model.add(Dense(1, activation='sigmoid'))\n",
        "\n",
        "    model.compile(optimizer='adam', loss='binary_crossentropy', metrics=['accuracy'])\n",
        "\n",
        "    model.fit(X_train, y_train, epochs=5, batch_size=128, validation_split=0.2)"
      ],
      "metadata": {
        "colab": {
          "base_uri": "https://localhost:8080/"
        },
        "id": "hH-BIGnjuUC0",
        "outputId": "84bd17f4-8103-4dc9-d984-99f00b32d453"
      },
      "execution_count": null,
      "outputs": [
        {
          "output_type": "stream",
          "name": "stdout",
          "text": [
            "Epoch 1/5\n",
            "1281/1281 [==============================] - 30s 19ms/step - loss: 0.0144 - accuracy: 0.9966 - val_loss: 0.0037 - val_accuracy: 0.9992\n",
            "Epoch 2/5\n",
            "1281/1281 [==============================] - 21s 16ms/step - loss: 0.0046 - accuracy: 0.9990 - val_loss: 0.0054 - val_accuracy: 0.9985\n",
            "Epoch 3/5\n",
            "1281/1281 [==============================] - 20s 16ms/step - loss: 0.0036 - accuracy: 0.9993 - val_loss: 0.0036 - val_accuracy: 0.9992\n",
            "Epoch 4/5\n",
            "1281/1281 [==============================] - 22s 17ms/step - loss: 0.0035 - accuracy: 0.9993 - val_loss: 0.0027 - val_accuracy: 0.9995\n",
            "Epoch 5/5\n",
            "1281/1281 [==============================] - 20s 16ms/step - loss: 0.0027 - accuracy: 0.9994 - val_loss: 0.0022 - val_accuracy: 0.9996\n",
            "Epoch 1/5\n",
            "1281/1281 [==============================] - 27s 18ms/step - loss: 0.0151 - accuracy: 0.9965 - val_loss: 0.0032 - val_accuracy: 0.9991\n",
            "Epoch 2/5\n",
            "1281/1281 [==============================] - 21s 16ms/step - loss: 0.0045 - accuracy: 0.9991 - val_loss: 0.0015 - val_accuracy: 0.9997\n",
            "Epoch 3/5\n",
            "1281/1281 [==============================] - 22s 17ms/step - loss: 0.0036 - accuracy: 0.9992 - val_loss: 0.0054 - val_accuracy: 0.9988\n",
            "Epoch 4/5\n",
            "1281/1281 [==============================] - 22s 17ms/step - loss: 0.0030 - accuracy: 0.9994 - val_loss: 0.0029 - val_accuracy: 0.9995\n",
            "Epoch 5/5\n",
            "1281/1281 [==============================] - 20s 16ms/step - loss: 0.0026 - accuracy: 0.9994 - val_loss: 0.0019 - val_accuracy: 0.9997\n",
            "Epoch 1/5\n",
            "1281/1281 [==============================] - 27s 18ms/step - loss: 0.0151 - accuracy: 0.9957 - val_loss: 0.0059 - val_accuracy: 0.9993\n",
            "Epoch 2/5\n",
            "1281/1281 [==============================] - 21s 17ms/step - loss: 0.0049 - accuracy: 0.9990 - val_loss: 0.0049 - val_accuracy: 0.9990\n",
            "Epoch 3/5\n",
            "1281/1281 [==============================] - 22s 17ms/step - loss: 0.0040 - accuracy: 0.9993 - val_loss: 0.0020 - val_accuracy: 0.9995\n",
            "Epoch 4/5\n",
            "1281/1281 [==============================] - 23s 18ms/step - loss: 0.0032 - accuracy: 0.9993 - val_loss: 0.0038 - val_accuracy: 0.9993\n",
            "Epoch 5/5\n",
            "1281/1281 [==============================] - 22s 17ms/step - loss: 0.0027 - accuracy: 0.9995 - val_loss: 0.0020 - val_accuracy: 0.9994\n",
            "Epoch 1/5\n",
            "1281/1281 [==============================] - 28s 19ms/step - loss: 0.0138 - accuracy: 0.9963 - val_loss: 0.0024 - val_accuracy: 0.9996\n",
            "Epoch 2/5\n",
            "1281/1281 [==============================] - 20s 16ms/step - loss: 0.0048 - accuracy: 0.9991 - val_loss: 0.0111 - val_accuracy: 0.9975\n",
            "Epoch 3/5\n",
            "1281/1281 [==============================] - 21s 17ms/step - loss: 0.0036 - accuracy: 0.9993 - val_loss: 0.0060 - val_accuracy: 0.9987\n",
            "Epoch 4/5\n",
            "1281/1281 [==============================] - 20s 16ms/step - loss: 0.0032 - accuracy: 0.9994 - val_loss: 0.0030 - val_accuracy: 0.9994\n",
            "Epoch 5/5\n",
            "1281/1281 [==============================] - 21s 17ms/step - loss: 0.0028 - accuracy: 0.9995 - val_loss: 8.2319e-04 - val_accuracy: 0.9999\n",
            "Epoch 1/5\n",
            "1281/1281 [==============================] - 26s 17ms/step - loss: 0.0140 - accuracy: 0.9953 - val_loss: 0.0041 - val_accuracy: 0.9991\n",
            "Epoch 2/5\n",
            "1281/1281 [==============================] - 22s 17ms/step - loss: 0.0043 - accuracy: 0.9992 - val_loss: 0.0046 - val_accuracy: 0.9989\n",
            "Epoch 3/5\n",
            "1281/1281 [==============================] - 20s 16ms/step - loss: 0.0036 - accuracy: 0.9994 - val_loss: 0.0065 - val_accuracy: 0.9988\n",
            "Epoch 4/5\n",
            "1281/1281 [==============================] - 22s 17ms/step - loss: 0.0031 - accuracy: 0.9994 - val_loss: 0.0030 - val_accuracy: 0.9991\n",
            "Epoch 5/5\n",
            "1281/1281 [==============================] - 20s 16ms/step - loss: 0.0028 - accuracy: 0.9994 - val_loss: 0.0045 - val_accuracy: 0.9987\n"
          ]
        }
      ]
    },
    {
      "cell_type": "code",
      "source": [
        "    y_pred = model.predict(X_test)\n",
        "    y_pred = (y_pred > 0.5).astype(int)\n",
        "\n",
        "    # Compute metrics\n",
        "    accuracy = accuracy_score(y_test, y_pred)\n",
        "    precision = precision_score(y_test, y_pred)\n",
        "    recall = recall_score(y_test, y_pred)\n",
        "    f1 = f1_score(y_test, y_pred)\n",
        "    cm = confusion_matrix(y_test, y_pred)\n"
      ],
      "metadata": {
        "id": "7_Zk9vGeuV8Y",
        "colab": {
          "base_uri": "https://localhost:8080/"
        },
        "outputId": "abf34b45-a8c6-49bd-978f-59d4bbff4c91"
      },
      "execution_count": null,
      "outputs": [
        {
          "output_type": "stream",
          "name": "stdout",
          "text": [
            "1601/1601 [==============================] - 8s 5ms/step\n"
          ]
        }
      ]
    },
    {
      "cell_type": "code",
      "source": [
        "    cv_accuracy.append(accuracy)\n",
        "    cv_precision.append(precision)\n",
        "    cv_recall.append(recall)\n",
        "    cv_f1.append(f1)\n",
        "    cv_cm.append(cm)\n",
        "\n",
        "avg_accuracy = np.mean(cv_accuracy)\n",
        "avg_precision = np.mean(cv_precision)\n",
        "avg_recall = np.mean(cv_recall)\n",
        "avg_f1 = np.mean(cv_f1)\n",
        "avg_cm = np.mean(cv_cm, axis=0)\n",
        "\n",
        "# Print average metrics and confusion matrix\n",
        "print(f'Average Accuracy: {avg_accuracy}')\n",
        "print(f'Average Precision: {avg_precision}')\n",
        "print(f'Average Recall: {avg_recall}')\n",
        "print(f'Average F1 Score: {avg_f1}')\n",
        "print('Average Confusion Matrix:')\n",
        "print(avg_cm.astype(int))"
      ],
      "metadata": {
        "colab": {
          "base_uri": "https://localhost:8080/"
        },
        "id": "tpO29oBktp9y",
        "outputId": "bac727dd-e0de-44cc-ba38-af0a059fe4cf"
      },
      "execution_count": null,
      "outputs": [
        {
          "output_type": "stream",
          "name": "stdout",
          "text": [
            "Average Accuracy: 0.9991798156538041\n",
            "Average Precision: 0.9996875488204968\n",
            "Average Recall: 0.9986734295747172\n",
            "Average F1 Score: 0.999180231877269\n",
            "Average Confusion Matrix:\n",
            "[[25570     8]\n",
            " [   34 25596]]\n"
          ]
        }
      ]
    }
  ]
}