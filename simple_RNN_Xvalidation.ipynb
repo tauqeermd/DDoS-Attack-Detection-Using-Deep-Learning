{
  "nbformat": 4,
  "nbformat_minor": 0,
  "metadata": {
    "colab": {
      "provenance": [],
      "gpuType": "T4",
      "mount_file_id": "1T-XJVJAyrGTitOvjFfW8iALplxlwQBij",
      "authorship_tag": "ABX9TyPAyJvqO5nnR+sZwSHDca1q",
      "include_colab_link": true
    },
    "kernelspec": {
      "name": "python3",
      "display_name": "Python 3"
    },
    "language_info": {
      "name": "python"
    },
    "accelerator": "GPU"
  },
  "cells": [
    {
      "cell_type": "markdown",
      "metadata": {
        "id": "view-in-github",
        "colab_type": "text"
      },
      "source": [
        "<a href=\"https://colab.research.google.com/github/faisal12212092/DDoS-Attack-Detection-Using-Deep-Learning-Research-report-/blob/main/simple_RNN_Xvalidation.ipynb\" target=\"_parent\"><img src=\"https://colab.research.google.com/assets/colab-badge.svg\" alt=\"Open In Colab\"/></a>"
      ]
    },
    {
      "cell_type": "code",
      "execution_count": null,
      "metadata": {
        "id": "BZJkBLxBidSc"
      },
      "outputs": [],
      "source": [
        "import pandas as pd\n",
        "from sklearn.preprocessing import MinMaxScaler\n",
        "from sklearn.model_selection import train_test_split, KFold\n",
        "from sklearn.metrics import confusion_matrix, accuracy_score, precision_score, recall_score, f1_score\n",
        "import numpy as np\n",
        "from tensorflow.keras.models import Sequential\n",
        "from tensorflow.keras.layers import Dense, SimpleRNN"
      ]
    },
    {
      "cell_type": "code",
      "source": [
        "path = \"/content/drive/MyDrive/DDOS DATASETS/smtnormalizeddata.csv\"\n",
        "df = pd.read_csv(path)"
      ],
      "metadata": {
        "id": "LO80VzFni08l"
      },
      "execution_count": null,
      "outputs": []
    },
    {
      "cell_type": "code",
      "source": [
        "df.dropna(inplace=True)\n",
        "features = df.drop('Label', axis=1)\n",
        "target = df['Label']"
      ],
      "metadata": {
        "id": "hZS5qi6Wi1bs"
      },
      "execution_count": null,
      "outputs": []
    },
    {
      "cell_type": "code",
      "source": [
        "def create_sequences(data, labels, sequence_length):\n",
        "    sequences = []\n",
        "    sequence_labels = []\n",
        "    for i in range(len(data) - sequence_length):\n",
        "        sequences.append(data[i:i + sequence_length])\n",
        "        sequence_labels.append(labels[i + sequence_length])\n",
        "    return np.array(sequences), np.array(sequence_labels)"
      ],
      "metadata": {
        "id": "uYlUnurDi1oK"
      },
      "execution_count": null,
      "outputs": []
    },
    {
      "cell_type": "code",
      "source": [
        "sequence_length = 10\n",
        "\n",
        "X, y = create_sequences(features.values, target.values, sequence_length)\n",
        "\n",
        "kfold = KFold(n_splits=5, shuffle=True, random_state=42)\n",
        "\n",
        "cv_accuracy = []\n",
        "cv_precision = []\n",
        "cv_recall = []\n",
        "cv_f1 = []\n",
        "cv_cm = []\n",
        "\n",
        "#K-fold cross-validation\n",
        "for train_index, val_index in kfold.split(X):\n",
        "    X_train, X_val = X[train_index], X[val_index]\n",
        "    y_train, y_val = y[train_index], y[val_index]\n",
        "\n",
        "    model = Sequential()\n",
        "    model.add(SimpleRNN(50, return_sequences=True, input_shape=(sequence_length, X_train.shape[2])))\n",
        "    model.add(SimpleRNN(50))\n",
        "    model.add(Dense(1, activation='sigmoid'))\n",
        "\n",
        "    model.compile(optimizer='adam', loss='binary_crossentropy', metrics=['accuracy'])\n",
        "\n",
        "    history = model.fit(X_train, y_train, epochs=5, batch_size=150, validation_data=(X_val, y_val))"
      ],
      "metadata": {
        "colab": {
          "base_uri": "https://localhost:8080/"
        },
        "id": "8LLjlEPWjSKm",
        "outputId": "7b2f3ebc-4b5c-4566-d16c-f2d0a2bf9a3e"
      },
      "execution_count": null,
      "outputs": [
        {
          "output_type": "stream",
          "name": "stdout",
          "text": [
            "Epoch 1/5\n",
            "1366/1366 [==============================] - 35s 23ms/step - loss: 0.0109 - accuracy: 0.9977 - val_loss: 0.0055 - val_accuracy: 0.9988\n",
            "Epoch 2/5\n",
            "1366/1366 [==============================] - 30s 22ms/step - loss: 0.0038 - accuracy: 0.9993 - val_loss: 0.0035 - val_accuracy: 0.9994\n",
            "Epoch 3/5\n",
            "1366/1366 [==============================] - 33s 24ms/step - loss: 0.0031 - accuracy: 0.9994 - val_loss: 0.0032 - val_accuracy: 0.9993\n",
            "Epoch 4/5\n",
            "1366/1366 [==============================] - 30s 22ms/step - loss: 0.0028 - accuracy: 0.9995 - val_loss: 0.0051 - val_accuracy: 0.9991\n",
            "Epoch 5/5\n",
            "1366/1366 [==============================] - 31s 22ms/step - loss: 0.0024 - accuracy: 0.9995 - val_loss: 0.0022 - val_accuracy: 0.9995\n",
            "Epoch 1/5\n",
            "1366/1366 [==============================] - 34s 23ms/step - loss: 0.0145 - accuracy: 0.9957 - val_loss: 0.0039 - val_accuracy: 0.9993\n",
            "Epoch 2/5\n",
            "1366/1366 [==============================] - 32s 24ms/step - loss: 0.0042 - accuracy: 0.9992 - val_loss: 0.0035 - val_accuracy: 0.9993\n",
            "Epoch 3/5\n",
            "1366/1366 [==============================] - 30s 22ms/step - loss: 0.0035 - accuracy: 0.9993 - val_loss: 0.0029 - val_accuracy: 0.9995\n",
            "Epoch 4/5\n",
            "1366/1366 [==============================] - 30s 22ms/step - loss: 0.0029 - accuracy: 0.9994 - val_loss: 0.0027 - val_accuracy: 0.9995\n",
            "Epoch 5/5\n",
            "1366/1366 [==============================] - 30s 22ms/step - loss: 0.0025 - accuracy: 0.9995 - val_loss: 0.0023 - val_accuracy: 0.9996\n",
            "Epoch 1/5\n",
            "1366/1366 [==============================] - 34s 23ms/step - loss: 0.0135 - accuracy: 0.9964 - val_loss: 0.0035 - val_accuracy: 0.9994\n",
            "Epoch 2/5\n",
            "1366/1366 [==============================] - 30s 22ms/step - loss: 0.0041 - accuracy: 0.9992 - val_loss: 0.0029 - val_accuracy: 0.9995\n",
            "Epoch 3/5\n",
            "1366/1366 [==============================] - 30s 22ms/step - loss: 0.0036 - accuracy: 0.9993 - val_loss: 0.0031 - val_accuracy: 0.9994\n",
            "Epoch 4/5\n",
            "1366/1366 [==============================] - 30s 22ms/step - loss: 0.0032 - accuracy: 0.9994 - val_loss: 0.0041 - val_accuracy: 0.9990\n",
            "Epoch 5/5\n",
            "1366/1366 [==============================] - 32s 23ms/step - loss: 0.0030 - accuracy: 0.9994 - val_loss: 0.0015 - val_accuracy: 0.9997\n",
            "Epoch 1/5\n",
            "1366/1366 [==============================] - 33s 23ms/step - loss: 0.0115 - accuracy: 0.9974 - val_loss: 0.0054 - val_accuracy: 0.9989\n",
            "Epoch 2/5\n",
            "1366/1366 [==============================] - 32s 23ms/step - loss: 0.0040 - accuracy: 0.9993 - val_loss: 0.0043 - val_accuracy: 0.9992\n",
            "Epoch 3/5\n",
            "1366/1366 [==============================] - 31s 22ms/step - loss: 0.0031 - accuracy: 0.9994 - val_loss: 0.0042 - val_accuracy: 0.9992\n",
            "Epoch 4/5\n",
            "1366/1366 [==============================] - 30s 22ms/step - loss: 0.0027 - accuracy: 0.9995 - val_loss: 0.0033 - val_accuracy: 0.9993\n",
            "Epoch 5/5\n",
            "1366/1366 [==============================] - 30s 22ms/step - loss: 0.0025 - accuracy: 0.9995 - val_loss: 0.0028 - val_accuracy: 0.9994\n",
            "Epoch 1/5\n",
            "1366/1366 [==============================] - 35s 24ms/step - loss: 0.0121 - accuracy: 0.9965 - val_loss: 0.0049 - val_accuracy: 0.9992\n",
            "Epoch 2/5\n",
            "1366/1366 [==============================] - 31s 22ms/step - loss: 0.0040 - accuracy: 0.9992 - val_loss: 0.0034 - val_accuracy: 0.9994\n",
            "Epoch 3/5\n",
            "1366/1366 [==============================] - 31s 23ms/step - loss: 0.0033 - accuracy: 0.9993 - val_loss: 0.0034 - val_accuracy: 0.9993\n",
            "Epoch 4/5\n",
            "1366/1366 [==============================] - 31s 23ms/step - loss: 0.0028 - accuracy: 0.9995 - val_loss: 0.0025 - val_accuracy: 0.9995\n",
            "Epoch 5/5\n",
            "1366/1366 [==============================] - 32s 23ms/step - loss: 0.0026 - accuracy: 0.9995 - val_loss: 0.0070 - val_accuracy: 0.9974\n"
          ]
        }
      ]
    },
    {
      "cell_type": "code",
      "source": [
        "    y_pred = model.predict(X_val)\n",
        "    y_pred = (y_pred > 0.5).astype(int)\n",
        "\n",
        "    accuracy = accuracy_score(y_val, y_pred)\n",
        "    precision = precision_score(y_val, y_pred)\n",
        "    recall = recall_score(y_val, y_pred)\n",
        "    f1 = f1_score(y_val, y_pred)\n",
        "    cm = confusion_matrix(y_val, y_pred)\n",
        "\n",
        "    cv_accuracy.append(accuracy)\n",
        "    cv_precision.append(precision)\n",
        "    cv_recall.append(recall)\n",
        "    cv_f1.append(f1)\n",
        "    cv_cm.append(cm)"
      ],
      "metadata": {
        "colab": {
          "base_uri": "https://localhost:8080/"
        },
        "id": "6vOhydjQjSYL",
        "outputId": "9eec75ed-1790-4484-f587-a8769849a734"
      },
      "execution_count": null,
      "outputs": [
        {
          "output_type": "stream",
          "name": "stdout",
          "text": [
            "1601/1601 [==============================] - 10s 6ms/step\n"
          ]
        }
      ]
    },
    {
      "cell_type": "code",
      "source": [
        "avg_accuracy = np.mean(cv_accuracy)\n",
        "avg_precision = np.mean(cv_precision)\n",
        "avg_recall = np.mean(cv_recall)\n",
        "avg_f1 = np.mean(cv_f1)\n",
        "avg_cm = np.mean(cv_cm, axis=0)\n",
        "\n",
        "print(f'Average Accuracy: {avg_accuracy}')\n",
        "print(f'Average Precision: {avg_precision}')\n",
        "print(f'Average Recall: {avg_recall}')\n",
        "print(f'Average F1 Score: {avg_f1}')\n",
        "print('Average Confusion Matrix:')\n",
        "print(avg_cm.astype(int))"
      ],
      "metadata": {
        "colab": {
          "base_uri": "https://localhost:8080/"
        },
        "id": "XIEkBpGKi1y1",
        "outputId": "5ec14f45-ae98-45f0-c964-ab1cea47fffe"
      },
      "execution_count": null,
      "outputs": [
        {
          "output_type": "stream",
          "name": "stdout",
          "text": [
            "Average Accuracy: 0.9974027495703797\n",
            "Average Precision: 0.9951450654445179\n",
            "Average Recall: 0.9996878657822864\n",
            "Average F1 Score: 0.9974112929910272\n",
            "Average Confusion Matrix:\n",
            "[[25453   125]\n",
            " [    8 25622]]\n"
          ]
        }
      ]
    }
  ]
}